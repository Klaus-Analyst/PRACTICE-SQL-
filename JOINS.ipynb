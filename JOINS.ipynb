{
 "cells": [
  {
   "cell_type": "code",
   "execution_count": null,
   "metadata": {},
   "outputs": [],
   "source": [
    "tThe 'JOIN' which allows you to use data from two or more tables. \n",
    "\n",
    "#The general format \n",
    "\n",
    "SELECT *\n",
    "  FROM table1 JOIN table2 ON (id of table1=id of table2)\n",
    "    \n",
    "    \n",
    "    \n",
    "The FROM clause says to merge data from table 1 with that from table 2. The ON says how to figure out which rows in table1 go with which rows in table2 - the id from table1 must match id from table2. (If we wanted to be more clear/specific we could say\n",
    "ON (table1.id=table2.id)\n"
   ]
  },
  {
   "cell_type": "code",
   "execution_count": null,
   "metadata": {},
   "outputs": [],
   "source": [
    "\n",
    "#The code below shows the player (from the goal) and stadium name (from the game table) for every goal scored.\n",
    "\n",
    "SELECT player,stadium\n",
    "  FROM game JOIN goal ON (id=matchid)\n",
    "    "
   ]
  },
  {
   "cell_type": "code",
   "execution_count": null,
   "metadata": {},
   "outputs": [],
   "source": [
    "#1. Show matchid and player name for all goals scored by Germany.\n",
    "#-- (teamid = 'GER')\n",
    "\n",
    "\n",
    "SELECT matchid, player\n",
    "FROM goal\n",
    "WHERE teamid = 'GER"
   ]
  },
  {
   "cell_type": "code",
   "execution_count": null,
   "metadata": {},
   "outputs": [],
   "source": [
    "#--  Show the player, teamid and mdate and for every German goal.\n",
    "#-- (teamid='GER')\n",
    "\n",
    "SELECT player, teamid, mdate\n",
    "FROM game\n",
    "JOIN goal ON (game.id = goal.matchid)\n",
    "WHERE teamid = 'GER'"
   ]
  },
  {
   "cell_type": "code",
   "execution_count": null,
   "metadata": {},
   "outputs": [],
   "source": [
    "# 4. Show the team1, team2 and player for every goal scored by a player called.\n",
    "\n",
    "Mario (player LIKE 'Mario%')\n",
    "SELECT team1, team2, player\n",
    "FROM goal\n",
    "JOIN game ON (game.id = goal.matchid)\n",
    "WHERE player LIKE 'Mario%'"
   ]
  },
  {
   "cell_type": "code",
   "execution_count": null,
   "metadata": {},
   "outputs": [],
   "source": [
    "# Show (player), (teamid), (coach), (gtime) for all goals scored in the. First 10 minutes (gtime<=10).\n",
    "\n",
    "SELECT player, teamid, coach, gtime\n",
    "FROM goal\n",
    "JOIN eteam ON (goal.teamid = eteam.id)\n",
    "WHERE gtime <= 10"
   ]
  },
  {
   "cell_type": "code",
   "execution_count": null,
   "metadata": {},
   "outputs": [],
   "source": [
    "#6. List the the dates of the matches and the name of the team in which\n",
    "# 'Fernando Santos' was the team1 coach.\n",
    "\n",
    "SELECT mdate, teamname\n",
    "FROM game\n",
    "JOIN eteam ON (game.team1 = eteam.id)\n",
    "WHERE coach = 'Fernando Santos'"
   ]
  },
  {
   "cell_type": "code",
   "execution_count": null,
   "metadata": {},
   "outputs": [],
   "source": [
    "# 7. List the player for every goal scored in a game where the staium was\n",
    "# 'National Stadium, Warsaw'\n",
    "\n",
    "SELECT player\n",
    "FROM goal\n",
    "JOIN game ON (goal.matchid = game.id)\n",
    "WHERE stadium = 'National Stadium, Warsaw'\n"
   ]
  },
  {
   "cell_type": "code",
   "execution_count": null,
   "metadata": {},
   "outputs": [],
   "source": [
    "# 8. Show names of all players who scored a goal against Germany.\n",
    "\n",
    "SELECT DISTINCT player\n",
    "FROM game\n",
    "JOIN goal ON goal.matchid = game.id\n",
    "WHERE (team1 = 'GER' OR team2 = 'GER')\n",
    "AND teamid <> 'GER'"
   ]
  },
  {
   "cell_type": "code",
   "execution_count": null,
   "metadata": {},
   "outputs": [],
   "source": [
    "#9. Show teamname and the total number of goals scored.\n",
    "\n",
    "SELECT teamname, COUNT(player) goals_scored\n",
    "FROM eteam JOIN goal ON eteam.id = goal.teamid\n",
    "GROUP BY teamname\n"
   ]
  },
  {
   "cell_type": "code",
   "execution_count": null,
   "metadata": {},
   "outputs": [],
   "source": [
    "#10. Show the stadium and the number of goals scored in each stadium.\n",
    "\n",
    "SELECT stadium, COUNT(player) goals_scored\n",
    "FROM game\n",
    "JOIN goal ON game.id = goal.matchid\n",
    "GROUP BY stadium"
   ]
  },
  {
   "cell_type": "code",
   "execution_count": null,
   "metadata": {},
   "outputs": [],
   "source": [
    "#11. For every match involving 'POL', show the matchid, date and the number of goals scored.\n",
    "SELECT matchid, mdate, COUNT(player) goals_scored\n",
    "FROM game\n",
    "JOIN goal ON goal.matchid = game.id\n",
    "WHERE (team1 = 'POL' OR team2 = 'POL')\n",
    "GROUP BY goal.matchid\n"
   ]
  },
  {
   "cell_type": "code",
   "execution_count": null,
   "metadata": {},
   "outputs": [],
   "source": [
    " #12. For every match where 'GER' scored, show matchid, match date and the number of goals scored by 'GER'.\n",
    "    \n",
    "SELECT matchid, mdate, COUNT(player)\n",
    "FROM game\n",
    "JOIN goal ON game.id = goal.matchid\n",
    "WHERE teamid = 'GER'\n",
    "GROUP BY game.id"
   ]
  },
  {
   "cell_type": "code",
   "execution_count": null,
   "metadata": {},
   "outputs": [],
   "source": [
    "#13. List every match with the goals scored by each team as shown. Sort your result by mdate, matchid, team1 and team2.\n",
    "\n",
    "SELECT mdate,\n",
    "  team1,\n",
    "  SUM(CASE WHEN teamid=team1 THEN 1 ELSE 0 END) score1,\n",
    "  team2,\n",
    "  SUM(CASE WHEN teamid=team2 THEN 1 ELSE 0 END) score2\n",
    "FROM game JOIN goal ON goal.matchid = game.id\n",
    "GROUP BY game.id\n",
    "ORDER BY mdate, matchid, team1, team2"
   ]
  },
  {
   "cell_type": "code",
   "execution_count": null,
   "metadata": {},
   "outputs": [],
   "source": [
    "#Obtain the cast list for 'Casablanca'.\n",
    "\n",
    "#what is a cast list?\n",
    "#The cast list is the names of the actors who were in the movie. Use movieid=11768, (or whatever value you got from the previous question)\n",
    "\n",
    "SELECT name FROM actor JOIN casting ON (casting.actorid=actor.id) WHERE movieid=11768\n"
   ]
  },
  {
   "cell_type": "code",
   "execution_count": null,
   "metadata": {},
   "outputs": [],
   "source": [
    "#Obtain the cast list for the film 'Alien'\n",
    "\n",
    "SELECT actor.name\n",
    "FROM actor\n",
    "JOIN casting ON actor.id = casting.actorid\n",
    "JOIN movie ON movie.id = casting.movieid\n",
    "WHERE title = 'Alien'\n"
   ]
  },
  {
   "cell_type": "code",
   "execution_count": null,
   "metadata": {},
   "outputs": [],
   "source": [
    "#List the films in which 'Harrison Ford' has appeared\n",
    "\n",
    "SELECT movie.title\n",
    "FROM movie\n",
    "JOIN casting ON movie.id = casting.movieid\n",
    "JOIN actor ON actor.id = casting.actorid\n",
    "WHERE name = 'Harrison Ford'"
   ]
  },
  {
   "cell_type": "code",
   "execution_count": null,
   "metadata": {},
   "outputs": [],
   "source": [
    "#List the films where 'Harrison Ford' has appeared - but not in the starring role. [Note: the ord field of casting gives the position of the actor. If ord=1 then this actor is in the starring role]\n",
    "\n",
    "SELECT movie.title\n",
    "FROM movie\n",
    "JOIN casting ON movie.id = casting.movieid\n",
    "JOIN actor ON actor.id = casting.actorid\n",
    "WHERE name = 'Harrison Ford'\n",
    "AND casting.ord!= 1"
   ]
  },
  {
   "cell_type": "code",
   "execution_count": null,
   "metadata": {},
   "outputs": [],
   "source": [
    "#List the films together with the leading star for all 1962 films.\n",
    "\n",
    "SELECT title, name leading_star\n",
    "FROM movie\n",
    "JOIN casting ON movie.id = casting.movieid\n",
    "JOIN actor ON actor.id = casting.actorid\n",
    "WHERE movie.yr = 1962\n",
    "AND casting.ord = 1\n"
   ]
  },
  {
   "cell_type": "code",
   "execution_count": null,
   "metadata": {},
   "outputs": [],
   "source": [
    "#Which were the busiest years for 'Rock Hudson', show the year and the number of movies he made each year for any year in which he made more than 2 movies.\n",
    "\n",
    "SELECT yr, COUNT(title) num_movies\n",
    "FROM movie\n",
    "JOIN casting ON movie.id = casting.movieid\n",
    "JOIN actor ON casting.actorid = actor.id\n",
    "WHERE name = 'John Travolta'\n",
    "GROUP BY yr\n",
    "HAVING COUNT(title) =\n",
    "(\n",
    "  SELECT MAX(c)\n",
    "\tFROM\n",
    "  (\n",
    "    SELECT yr, COUNT(title) AS c\n",
    "    FROM movie\n",
    "    JOIN casting ON movie.id = casting.movieid\n",
    "    JOIN actor ON casting.actorid = actor.id\n",
    "    WHERE name = 'Rock Hudson'\n",
    "    GROUP BY yr\n",
    "  ) AS t\n",
    ")"
   ]
  },
  {
   "cell_type": "code",
   "execution_count": null,
   "metadata": {},
   "outputs": [],
   "source": [
    "#List the film title and the leading actor for all of the films 'Julie Andrews' played in.\n",
    "\n",
    "#Did you get \"Little Miss Marker twice\"?\n",
    "#Julie Andrews starred in the 1980 remake of Little Miss Marker and not the original(1934). Title is not a unique field, create a table of IDs in your subquery.\n",
    "\n",
    "SELECT DISTINCT b.title, a.name leading_star\n",
    "FROM\n",
    "(\n",
    "  SELECT movie.title, actor.name, casting.movieid\n",
    "  FROM movie\n",
    "  JOIN casting ON movie.id = casting.movieid\n",
    "  JOIN actor ON casting.actorid = actor.id\n",
    "  WHERE casting.ord = 1\n",
    ") AS a\n",
    "JOIN\n",
    "(\n",
    "  SELECT movie.title, casting.movieid\n",
    "  FROM movie\n",
    "  JOIN casting ON movie.id = casting.movieid\n",
    "  JOIN actor ON casting.actorid = actor.id\n",
    "  WHERE actor.name = 'Julie Andrews'\n",
    ") AS b\n",
    "ON a.movieid = b.movieid\n"
   ]
  },
  {
   "cell_type": "code",
   "execution_count": null,
   "metadata": {},
   "outputs": [],
   "source": [
    "#Obtain a list, in alphabetical order, of actors who've had at least 15 starring roles.\n",
    "\n",
    "SELECT a.name\n",
    "FROM\n",
    "(\n",
    "  SELECT actor.name, COUNT(casting.movieid) star_count\n",
    "  FROM actor\n",
    "  JOIN casting ON actor.id = casting.actorid\n",
    "  WHERE casting.ord = 1\n",
    "  GROUP BY actor.name\n",
    ") AS a\n",
    "WHERE star_count >=15\n",
    "ORDER BY a.name\n"
   ]
  },
  {
   "cell_type": "code",
   "execution_count": null,
   "metadata": {},
   "outputs": [],
   "source": [
    "#List the films released in the year 1978 ordered by the number of actors in the cast, then by title.\n",
    "\n",
    "SELECT movie.title, COUNT(*) cast_size\n",
    "FROM movie\n",
    "JOIN casting ON movie.id = casting.movieid\n",
    "WHERE movie.yr = 1978\n",
    "GROUP BY movie.title\n",
    "ORDER BY title DESC"
   ]
  }
 ],
 "metadata": {
  "kernelspec": {
   "display_name": "Python 3",
   "language": "python",
   "name": "python3"
  },
  "language_info": {
   "codemirror_mode": {
    "name": "ipython",
    "version": 3
   },
   "file_extension": ".py",
   "mimetype": "text/x-python",
   "name": "python",
   "nbconvert_exporter": "python",
   "pygments_lexer": "ipython3",
   "version": "3.7.3"
  }
 },
 "nbformat": 4,
 "nbformat_minor": 2
}
