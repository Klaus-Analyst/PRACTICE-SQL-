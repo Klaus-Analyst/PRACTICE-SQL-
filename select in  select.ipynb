{
 "cells": [
  {
   "cell_type": "code",
   "execution_count": null,
   "metadata": {},
   "outputs": [],
   "source": [
    "#List each country name where the population is larger than 'Russia'.\n",
    "\n",
    "SELECT name FROM world\n",
    "WHERE population >\n",
    "     (SELECT population FROM world\n",
    "      WHERE name='Russia');"
   ]
  },
  {
   "cell_type": "code",
   "execution_count": null,
   "metadata": {},
   "outputs": [],
   "source": [
    "#Show the countries in Europe with a per capita GDP greater than 'United Kingdom'.\n",
    "\n",
    " SELECT name FROM world WHERE gdp/population > (SELECT gdp/population FROM world WHERE name = 'United Kingdom');"
   ]
  },
  {
   "cell_type": "code",
   "execution_count": null,
   "metadata": {},
   "outputs": [],
   "source": [
    "#List the name and continent of countries in the continents containing either Argentina or Australia. Order by name of the country.\n",
    "\n",
    "SELECT name, continent FROM world WHERE continent IN (SELECT continent FROM world WHERE name IN ('Argentina', 'Australia')) ORDER BY name;"
   ]
  },
  {
   "cell_type": "code",
   "execution_count": null,
   "metadata": {},
   "outputs": [],
   "source": [
    "#Which country has a population that is more than Canada but less than Poland? Show the name and the population.\n",
    " \n",
    "SELECT name, population FROM world WHERE population > (SELECT population FROM world WHERE name = 'Canada') AND population < (SELECT population FROM world WHERE name = 'Poland');"
   ]
  },
  {
   "cell_type": "code",
   "execution_count": null,
   "metadata": {},
   "outputs": [],
   "source": [
    "#Show the name and the population of each country in Europe. Show the population as a percentage of the population of Germany.\n",
    "\n",
    "SELECT name, CONCAT(ROUND(population/(SELECT population FROM world WHERE name = 'Germany')*100), '%') FROM world WHERE continent = 'Europe';"
   ]
  },
  {
   "cell_type": "code",
   "execution_count": null,
   "metadata": {},
   "outputs": [],
   "source": [
    "#Which countries have a GDP greater than every country in Europe? [Give the name only.] (Some countries may have NULL gdp values)\n",
    "\n",
    "SELECT name FROM world WHERE gdp > ALL(SELECT gdp FROM world WHERE gdp > 0 AND continent = 'Europe');"
   ]
  },
  {
   "cell_type": "code",
   "execution_count": null,
   "metadata": {},
   "outputs": [],
   "source": [
    "#Find the largest country (by area) in each continent, show the continent, the name and the area:\n",
    "\n",
    "SELECT continent, name, area FROM world x\n",
    "WHERE area >= ALL(SELECT area FROM world y WHERE x.continent = y.continent AND y.area>0);"
   ]
  },
  {
   "cell_type": "code",
   "execution_count": null,
   "metadata": {},
   "outputs": [],
   "source": [
    "#List each continent and the name of the country that comes first alphabetically.\n",
    "\n",
    "SELECT continent, name FROM world x WHERE name <= ALL(SELECT name FROM world y WHERE x.continent = y.continent);"
   ]
  },
  {
   "cell_type": "code",
   "execution_count": null,
   "metadata": {},
   "outputs": [],
   "source": [
    "#Find the continents where all countries have a population <= 25000000. Then find the names of the countries associated with these continents. Show name, continent and population.\n",
    "\n",
    "SELECT name, continent, population FROM world WHERE continent IN (SELECT continent FROM world  x WHERE 25000000 >= (SELECT MAX(population) FROM world y WHERE x.continent = y.continent));\n",
    "or\n",
    "SELECT y.name, y.continent, y.population\n",
    "FROM world AS y\n",
    "JOIN\n",
    "(SELECT continent,max(population)\n",
    "FROM world\n",
    "GROUP BY continent\n",
    "HAVING max(population) <= 25000000) AS x\n",
    "ON y.continent = x.continent"
   ]
  },
  {
   "cell_type": "code",
   "execution_count": null,
   "metadata": {},
   "outputs": [],
   "source": [
    "#10. Some countries have populations more than three times that of any of their neighbours (in the same continent). Give the countries and continents.\n",
    "\n",
    "SELECT name, continent FROM world x\n",
    "WHERE population > ALL(SELECT 3*population FROM world y WHERE x.continent = y.continent AND x.name <> y.name)"
   ]
  }
 ],
 "metadata": {
  "kernelspec": {
   "display_name": "Python 3",
   "language": "python",
   "name": "python3"
  },
  "language_info": {
   "codemirror_mode": {
    "name": "ipython",
    "version": 3
   },
   "file_extension": ".py",
   "mimetype": "text/x-python",
   "name": "python",
   "nbconvert_exporter": "python",
   "pygments_lexer": "ipython3",
   "version": "3.7.3"
  }
 },
 "nbformat": 4,
 "nbformat_minor": 2
}
