{
 "cells": [
  {
   "cell_type": "code",
   "execution_count": null,
   "metadata": {},
   "outputs": [],
   "source": [
    "Sometimes NULL values are given in tables, this might be because the data is unknown or is inappropriate. \n",
    "We can use the phrase IS NULL to pick out fields. We can use IS NOT NULL similarly.\n"
   ]
  },
  {
   "cell_type": "code",
   "execution_count": null,
   "metadata": {},
   "outputs": [],
   "source": [
    "#List the teachers who have NULL for their department.\n",
    "\n",
    "select name FROM teacher WHERE dept IS NULL"
   ]
  },
  {
   "cell_type": "code",
   "execution_count": null,
   "metadata": {},
   "outputs": [],
   "source": [
    "INNER JOIN: \n",
    "    \n",
    "    returns rows when there is a match in both tables.\n",
    "\n"
   ]
  },
  {
   "cell_type": "code",
   "execution_count": null,
   "metadata": {},
   "outputs": [],
   "source": [
    "LEFT JOIN:\n",
    "    \n",
    "    returns all rows from the left table, even if there are no matches in the right table.\n",
    "\n"
   ]
  },
  {
   "cell_type": "code",
   "execution_count": null,
   "metadata": {},
   "outputs": [],
   "source": [
    "RIGHT JOIN: \n",
    "    \n",
    "    returns all rows from the right table, even if there are no matches in the left table.\n",
    "\n"
   ]
  },
  {
   "cell_type": "code",
   "execution_count": null,
   "metadata": {},
   "outputs": [],
   "source": [
    "FULL JOIN: \n",
    "\n",
    "    combines the results of both left and right outer joins."
   ]
  },
  {
   "cell_type": "code",
   "execution_count": null,
   "metadata": {},
   "outputs": [],
   "source": [
    "EXAMPLE:\n",
    "    CONSIDER THE FOLLOWING TWO TABLES;\n",
    "    \n",
    "    \n",
    "    #Table 1:\n",
    "    \n",
    "    id  firstName                  lastName\n",
    ".......................................\n",
    "1   arun                        prasanth                 \n",
    "2   ann                         antony                   \n",
    "3   sruthy                      abc                      \n",
    "6   new                         abc \n",
    "\n",
    "\n",
    "    #Table 2:\n",
    "\n",
    "id2 age Place\n",
    "................\n",
    "1   24  kerala\n",
    "2   24  usa\n",
    "3   25  ekm\n",
    "5   24  chennai\n",
    "\n",
    "\n"
   ]
  },
  {
   "cell_type": "code",
   "execution_count": null,
   "metadata": {},
   "outputs": [],
   "source": [
    "#INNER JOIN EXAMPLE\n",
    "\n",
    "SELECT TableA.firstName,TableA.lastName,TableB.age,TableB.Place\n",
    "  FROM TableA\n",
    " INNER JOIN TableB\n",
    "    ON TableA.id = TableB.id2;\n",
    "    \n",
    "\n",
    "#RESULTS\n",
    "    \n",
    "    firstName       lastName       age  Place\n",
    "..............................................\n",
    "arun            prasanth        24  kerala\n",
    "ann             antony          24  usa\n",
    "sruthy          abc             25  ekm\n"
   ]
  },
  {
   "cell_type": "code",
   "execution_count": null,
   "metadata": {},
   "outputs": [],
   "source": [
    "#LEFT JOIN EXAMPLE: gives all selected rows in TableA, plus any common selected rows in TableB.\n",
    "\n",
    "\n",
    "SELECT TableA.firstName,TableA.lastName,TableB.age,TableB.Place\n",
    "FROM TableA\n",
    "LEFT JOIN TableB \n",
    "ON TableA.id = TableB.id2;\n",
    "\n",
    "\n",
    "firstName                   lastName                    age   Place\n",
    "...............................................................................\n",
    "arun                        prasanth                    24    kerala\n",
    "ann                         antony                      24    usa\n",
    "sruthy                      abc                         25    ekm\n",
    "new                         abc                         NULL  NULL\n"
   ]
  },
  {
   "cell_type": "code",
   "execution_count": null,
   "metadata": {},
   "outputs": [],
   "source": []
  }
 ],
 "metadata": {
  "kernelspec": {
   "display_name": "Python 3",
   "language": "python",
   "name": "python3"
  },
  "language_info": {
   "codemirror_mode": {
    "name": "ipython",
    "version": 3
   },
   "file_extension": ".py",
   "mimetype": "text/x-python",
   "name": "python",
   "nbconvert_exporter": "python",
   "pygments_lexer": "ipython3",
   "version": "3.7.3"
  }
 },
 "nbformat": 4,
 "nbformat_minor": 2
}
