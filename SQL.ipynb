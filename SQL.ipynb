{
 "cells": [
  {
   "cell_type": "code",
   "execution_count": 2,
   "metadata": {},
   "outputs": [
    {
     "data": {
      "text/html": [
       "<div>\n",
       "<style scoped>\n",
       "    .dataframe tbody tr th:only-of-type {\n",
       "        vertical-align: middle;\n",
       "    }\n",
       "\n",
       "    .dataframe tbody tr th {\n",
       "        vertical-align: top;\n",
       "    }\n",
       "\n",
       "    .dataframe thead th {\n",
       "        text-align: right;\n",
       "    }\n",
       "</style>\n",
       "<table border=\"1\" class=\"dataframe\">\n",
       "  <thead>\n",
       "    <tr style=\"text-align: right;\">\n",
       "      <th></th>\n",
       "      <th>name</th>\n",
       "      <th>continent</th>\n",
       "      <th>area</th>\n",
       "      <th>population</th>\n",
       "      <th>gdp</th>\n",
       "    </tr>\n",
       "  </thead>\n",
       "  <tbody>\n",
       "    <tr>\n",
       "      <th>0</th>\n",
       "      <td>Afghanistan</td>\n",
       "      <td>Asia</td>\n",
       "      <td>652230</td>\n",
       "      <td>25500100</td>\n",
       "      <td>2.034300e+10</td>\n",
       "    </tr>\n",
       "    <tr>\n",
       "      <th>1</th>\n",
       "      <td>Albania</td>\n",
       "      <td>Europe</td>\n",
       "      <td>28748</td>\n",
       "      <td>2831741</td>\n",
       "      <td>1.296000e+10</td>\n",
       "    </tr>\n",
       "    <tr>\n",
       "      <th>2</th>\n",
       "      <td>Algeria</td>\n",
       "      <td>Africa</td>\n",
       "      <td>2381741</td>\n",
       "      <td>37100000</td>\n",
       "      <td>1.886810e+11</td>\n",
       "    </tr>\n",
       "    <tr>\n",
       "      <th>3</th>\n",
       "      <td>Andorra</td>\n",
       "      <td>Europe</td>\n",
       "      <td>468</td>\n",
       "      <td>78115</td>\n",
       "      <td>3.712000e+09</td>\n",
       "    </tr>\n",
       "    <tr>\n",
       "      <th>4</th>\n",
       "      <td>Angola</td>\n",
       "      <td>Africa</td>\n",
       "      <td>1246700</td>\n",
       "      <td>20609294</td>\n",
       "      <td>1.009900e+11</td>\n",
       "    </tr>\n",
       "  </tbody>\n",
       "</table>\n",
       "</div>"
      ],
      "text/plain": [
       "          name continent     area  population           gdp\n",
       "0  Afghanistan      Asia   652230    25500100  2.034300e+10\n",
       "1      Albania    Europe    28748     2831741  1.296000e+10\n",
       "2      Algeria    Africa  2381741    37100000  1.886810e+11\n",
       "3      Andorra    Europe      468       78115  3.712000e+09\n",
       "4       Angola    Africa  1246700    20609294  1.009900e+11"
      ]
     },
     "execution_count": 2,
     "metadata": {},
     "output_type": "execute_result"
    }
   ],
   "source": [
    "#THIS IS MY SQL CHEATSHEET\n",
    "#suppoose we are using the followuing table as thne reference table, then the following outputs can be obtained. \n",
    "\n",
    "\n",
    "import pandas as pd\n",
    "df=pd.read_csv('sql.csv')\n",
    "df\n"
   ]
  },
  {
   "cell_type": "code",
   "execution_count": null,
   "metadata": {},
   "outputs": [],
   "source": [
    "#USING THE WHERE CLAUSE \n",
    "#The example uses a WHERE clause to show the population of 'France'. Note that strings (pieces of text that are data) should be in 'single quotes';\n",
    "\n",
    "SELECT population FROM world\n",
    "  WHERE name = 'Albania'\n"
   ]
  },
  {
   "cell_type": "code",
   "execution_count": null,
   "metadata": {},
   "outputs": [],
   "source": [
    "USING THE 'IN'CLAUSE\n",
    "#Checking a list The word IN allows us to check if an item is in a list. The example shows the name and population for the countries 'Brazil', 'Russia', 'India' and 'China'.\n",
    "\n",
    "#Show the name and the population for 'Brazil', 'Russia', 'India' and 'China.\n",
    "\n",
    "SELECT name, population FROM world\n",
    "  WHERE name IN ('Brazil', 'Russia', 'India', 'China');\n",
    "    "
   ]
  },
  {
   "cell_type": "code",
   "execution_count": null,
   "metadata": {},
   "outputs": [],
   "source": [
    "USING 'BETWEEN' CLAUSE\n",
    "\n",
    "#BETWEEN allows range checking (range specified is inclusive of boundary values). \n",
    "#The example below shows countries with an area of 250,000-300,000 sq.Km\n",
    "\n",
    "SELECT name, area FROM world\n",
    "  WHERE area BETWEEN 250000 AND 300000"
   ]
  },
  {
   "cell_type": "code",
   "execution_count": null,
   "metadata": {},
   "outputs": [],
   "source": [
    "USING 'LIKE' CLAUSE\n",
    "\n",
    "#The SQL Like is a logical operator that is used to determine whether a specific character string matches a specified pattern\n",
    "#Example\n",
    "\n",
    " \n",
    "SELECT name FROM world\n",
    " WHERE name LIKE '%a' OR name LIKE 'l%'  #the follwing command checks for names ending with 'a' or 'l'\n",
    "    \n",
    "SELECT name, population\n",
    "      FROM world\n",
    "      WHERE name LIKE \"Al%\"   #then follwing command checks for names that start with 'AL'\n",
    "        \n",
    "\n",
    "    \n",
    "    "
   ]
  },
  {
   "cell_type": "code",
   "execution_count": null,
   "metadata": {},
   "outputs": [],
   "source": [
    "USING 'EQUALS, LESS THAN, GREATER THAN' COMMANDS \n",
    "Consider the follwing commands\n",
    "\n",
    "SELECT name, area, population\n",
    "FROM world\n",
    "WHERE area > 50000 AND population < 10000000 \n",
    "\n",
    "SELECT name, area, population\n",
    "FROM world\n",
    "WHERE area = 50000 AND population = 10000000 #it only has one equals sign. \n",
    "\n",
    "\n",
    "SELECT name, area, population\n",
    "FROM world\n",
    "WHERE area >= 50000 AND population <= 10000000 # the greater or less than commanmd comes before the equals sign ('>=' and '<=')\n",
    "\n"
   ]
  },
  {
   "cell_type": "code",
   "execution_count": null,
   "metadata": {},
   "outputs": [],
   "source": [
    "USING Exclusive OR '(XOR)'\n",
    "#When we use th OR clause it will return A AND/OR B, but the XOR clause only returns A or B and not both. \n",
    "\n",
    "Consider the following example:    \n",
    "#Exclusive OR (XOR). Show the countries that are big by area (more than 3 million) or big by population (more than 250 million) but not both. Show name, population and area.\n",
    "#Australia has a big area but a small population, it should be included.\n",
    "#Indonesia has a big population but a small area, it should be included.\n",
    "#China has a big population and big area, it should be excluded.\n",
    "#United Kingdom has a small population and a small area, it should be excluded.\n",
    "\n",
    "\n",
    "SELECT name, population, area FROM world\n",
    "WHERE area > 3000000 XOR population >250000000\n",
    "    "
   ]
  },
  {
   "cell_type": "code",
   "execution_count": null,
   "metadata": {},
   "outputs": [],
   "source": [
    "\n",
    "Rounding\n",
    "\n",
    "#Show the name and population in millions and the GDP in billions for the countries of the continent 'South America'. Use the ROUND function to show the values to two decimal places.\n",
    "\n",
    "#For South America show population in millions and GDP in billions both to 2 decimal places.\n",
    "#Millions and billions\n",
    "#Divide by 1000000 (6 zeros) for millions. Divide by 1000000000 (9 zeros) for billions.\n",
    "\n",
    "SELECT name, ROUND(population/1000000, 2), ROUND(gdp/1000000000, 2) FROM world\n",
    "WHERE continent = 'South America'\n",
    "\n"
   ]
  },
  {
   "cell_type": "code",
   "execution_count": null,
   "metadata": {},
   "outputs": [],
   "source": [
    "Trillion dollar economies (ROUNDING UP) FOR INSTANCE, ROUNDING UP TO THE NEAREST 1000 (add a '-' before the rounding value)\n",
    "#Consider the following example. \n",
    "#Show the name and per-capita GDP for those countries with a GDP of at least one trillion (1000000000000; that is 12 zeros). Round this value to the nearest 1000. \n",
    "#Show per-capita GDP for the trillion dollar countries to the nearest $1000.\n",
    "\n",
    "SELECT name, ROUND(gdp/population, -3) FROM world \n",
    "WHERE gdp > 1000000000000\n"
   ]
  },
  {
   "cell_type": "code",
   "execution_count": null,
   "metadata": {},
   "outputs": [],
   "source": [
    "#USING THE NOT LIKE COMMAND\n",
    "CONSIDER THE FOLLWING EXAMPLE\n",
    "#Equatorial Guinea and Dominican Republic have all of the vowels (a e i o u) in the name. They don't count because they have more than one word in the name.\n",
    "#Find the country that has all the vowels and no spaces in its name.\n",
    "\n",
    "#You can use the phrase name NOT LIKE '%a%' to exclude characters from your results.\n",
    "#The query shown misses countries like Bahamas and Belarus because they contain at least one 'a'\n",
    "\n",
    "\n",
    "SELECT name FROM world\n",
    "WHERE name LIKE '%a%' AND name LIKE '%e%' AND name LIKE '%i%' AND name LIKE '%o%' AND name LIKE '%u%' AND name NOT LIKE '% %';\n",
    "\n",
    "\n"
   ]
  },
  {
   "cell_type": "code",
   "execution_count": null,
   "metadata": {},
   "outputs": [],
   "source": []
  },
  {
   "cell_type": "code",
   "execution_count": null,
   "metadata": {},
   "outputs": [],
   "source": []
  },
  {
   "cell_type": "code",
   "execution_count": null,
   "metadata": {},
   "outputs": [],
   "source": []
  },
  {
   "cell_type": "code",
   "execution_count": null,
   "metadata": {},
   "outputs": [],
   "source": []
  },
  {
   "cell_type": "code",
   "execution_count": null,
   "metadata": {},
   "outputs": [],
   "source": []
  }
 ],
 "metadata": {
  "kernelspec": {
   "display_name": "Python 3",
   "language": "python",
   "name": "python3"
  },
  "language_info": {
   "codemirror_mode": {
    "name": "ipython",
    "version": 3
   },
   "file_extension": ".py",
   "mimetype": "text/x-python",
   "name": "python",
   "nbconvert_exporter": "python",
   "pygments_lexer": "ipython3",
   "version": "3.7.3"
  }
 },
 "nbformat": 4,
 "nbformat_minor": 2
}
