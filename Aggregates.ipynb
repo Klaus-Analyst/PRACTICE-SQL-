{
 "cells": [
  {
   "cell_type": "code",
   "execution_count": null,
   "metadata": {},
   "outputs": [],
   "source": [
    "The 'DISTINCT' parameter. \n",
    "\n",
    "By default the SELECT statementwill likey return duplicates rows. We can remove these duplicates using the DISTINCT key word."
   ]
  },
  {
   "cell_type": "code",
   "execution_count": null,
   "metadata": {},
   "outputs": [],
   "source": [
    "The 'Order by' parameter. \n",
    "The user can see the results of the SELECT statement in any particular order.  ASC or DESC for ascending (smallest first, largest last) or descending order."
   ]
  },
  {
   "cell_type": "code",
   "execution_count": null,
   "metadata": {},
   "outputs": [],
   "source": [
    "#The total population and GDP of Europe.\n",
    "\n",
    "SELECT SUM(population), SUM(gdp)\n",
    "FROM bbc\n",
    "WHERE region = 'Europe'"
   ]
  },
  {
   "cell_type": "code",
   "execution_count": null,
   "metadata": {},
   "outputs": [],
   "source": [
    "SELECT  DISTINCT region FROM bbc\n",
    "\n",
    "It will return all unique regions"
   ]
  },
  {
   "cell_type": "code",
   "execution_count": null,
   "metadata": {},
   "outputs": [],
   "source": [
    "\n",
    "USING THE ORDER BY function \n",
    "\n",
    "Show the name and population for each country with a population of more than 100000000. Show countries in descending order of population.\n",
    "\n",
    "SELECT name, population\n",
    "FROM bbc\n",
    "WHERE population > 100000000\n",
    "ORDER BY population DESC"
   ]
  },
  {
   "cell_type": "code",
   "execution_count": null,
   "metadata": {},
   "outputs": [],
   "source": [
    "GROUP BY and HAVING fucntion\n",
    "\n",
    "#The HAVING clause is tested after the GROUP BY. You can test the aggregated values with a HAVING clause. Show the total population of those continents with a total population of at least half a billion.\n",
    "\n",
    "SELECT continent, SUM(population)\n",
    "FROM world GROUP BY continent\n",
    "HAVING SUM(population)>500000000"
   ]
  },
  {
   "cell_type": "code",
   "execution_count": null,
   "metadata": {},
   "outputs": [],
   "source": [
    "AN EXAMPLE WHEN USING THE COUNT FUCNTION. \n",
    "\n",
    "#WHERE and GROUP BY. The WHERE filter takes place before the aggregating function. For each relevant continent show the number of countries that has a population of at least 200000000.\n",
    "\n",
    "SELECT continent, COUNT(name)\n",
    "FROM world\n",
    "WHERE population>200000000\n",
    "GROUP BY continent\n"
   ]
  },
  {
   "cell_type": "code",
   "execution_count": null,
   "metadata": {},
   "outputs": [],
   "source": []
  },
  {
   "cell_type": "code",
   "execution_count": null,
   "metadata": {},
   "outputs": [],
   "source": []
  },
  {
   "cell_type": "code",
   "execution_count": null,
   "metadata": {},
   "outputs": [],
   "source": []
  },
  {
   "cell_type": "code",
   "execution_count": null,
   "metadata": {},
   "outputs": [],
   "source": []
  },
  {
   "cell_type": "code",
   "execution_count": null,
   "metadata": {},
   "outputs": [],
   "source": []
  }
 ],
 "metadata": {
  "kernelspec": {
   "display_name": "Python 3",
   "language": "python",
   "name": "python3"
  },
  "language_info": {
   "codemirror_mode": {
    "name": "ipython",
    "version": 3
   },
   "file_extension": ".py",
   "mimetype": "text/x-python",
   "name": "python",
   "nbconvert_exporter": "python",
   "pygments_lexer": "ipython3",
   "version": "3.7.3"
  }
 },
 "nbformat": 4,
 "nbformat_minor": 2
}
